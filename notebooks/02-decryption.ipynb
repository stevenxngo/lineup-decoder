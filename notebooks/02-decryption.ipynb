{
 "cells": [
  {
   "cell_type": "markdown",
   "metadata": {},
   "source": [
    "# Decryption with Heuristics and Machine Learning"
   ]
  },
  {
   "cell_type": "code",
   "execution_count": 5,
   "metadata": {},
   "outputs": [],
   "source": [
    "import pandas as pd\n",
    "import re\n",
    "from collections import Counter\n",
    "\n",
    "# read processed data\n",
    "cyphertext_path = '../data/processed/countdown_23.csv'\n",
    "cyphertext_df = pd.read_csv(cyphertext_path)\n",
    "\n",
    "# read reference artists\n",
    "with open('../data/artists.txt', 'r') as file:\n",
    "    reference_artists = file.read().splitlines()"
   ]
  },
  {
   "cell_type": "code",
   "execution_count": 6,
   "metadata": {},
   "outputs": [],
   "source": [
    "# heuritic patterns\n",
    "dj_set_pattern = re.compile(r\"\\([A-Z0-9]{2} [A-Z0-9]{3}\\)\")\n",
    "b2b_pattern = re.compile(r\"\\b(\\w+\\s)([A-Z0-9])([A-Z0-9])(\\2)(\\s\\w+)\")\n",
    "\n",
    "\n",
    "def extract_patterns(text):\n",
    "    mappings = {}\n",
    "    # DJ SET\n",
    "    dj_set_matches = dj_set_pattern.findall(text)\n",
    "    for match in dj_set_matches:\n",
    "        cypher_dj_set = match[1:-1]\n",
    "        plain_dj_set = \"DJ SET\"\n",
    "        for c, p in zip(\n",
    "            cypher_dj_set.replace(\" \", \"\"), plain_dj_set.replace(\" \", \"\")\n",
    "        ):\n",
    "            mappings[c] = p\n",
    "\n",
    "    # B2B\n",
    "    b2b_matches = b2b_pattern.findall(text)\n",
    "    for match in b2b_matches:\n",
    "        cypher_b2b = match[1] + match[2]\n",
    "        plain_b2b = \"B2\"\n",
    "        for c, p in zip(cypher_b2b, plain_b2b):\n",
    "            mappings[c] = p\n",
    "\n",
    "    return mappings"
   ]
  }
 ],
 "metadata": {
  "kernelspec": {
   "display_name": "Python 3",
   "language": "python",
   "name": "python3"
  },
  "language_info": {
   "codemirror_mode": {
    "name": "ipython",
    "version": 3
   },
   "file_extension": ".py",
   "mimetype": "text/x-python",
   "name": "python",
   "nbconvert_exporter": "python",
   "pygments_lexer": "ipython3",
   "version": "3.1.undefined"
  }
 },
 "nbformat": 4,
 "nbformat_minor": 2
}
