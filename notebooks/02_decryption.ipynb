{
 "cells": [
  {
   "cell_type": "markdown",
   "metadata": {},
   "source": [
    "# Decryption with Heuristics and Pattern Matching"
   ]
  },
  {
   "cell_type": "code",
   "execution_count": 116,
   "metadata": {},
   "outputs": [],
   "source": [
    "import pandas as pd\n",
    "import re\n",
    "from collections import Counter\n",
    "\n",
    "file_name = \"countdown_24\"\n",
    "save = False"
   ]
  },
  {
   "cell_type": "code",
   "execution_count": 117,
   "metadata": {},
   "outputs": [
    {
     "data": {
      "text/html": [
       "<div>\n",
       "<style scoped>\n",
       "    .dataframe tbody tr th:only-of-type {\n",
       "        vertical-align: middle;\n",
       "    }\n",
       "\n",
       "    .dataframe tbody tr th {\n",
       "        vertical-align: top;\n",
       "    }\n",
       "\n",
       "    .dataframe thead th {\n",
       "        text-align: right;\n",
       "    }\n",
       "</style>\n",
       "<table border=\"1\" class=\"dataframe\">\n",
       "  <thead>\n",
       "    <tr style=\"text-align: right;\">\n",
       "      <th></th>\n",
       "      <th>cyphertext</th>\n",
       "    </tr>\n",
       "  </thead>\n",
       "  <tbody>\n",
       "    <tr>\n",
       "      <th>0</th>\n",
       "      <td>ABC DBEFG HAIEGHJA</td>\n",
       "    </tr>\n",
       "    <tr>\n",
       "      <th>1</th>\n",
       "      <td>GJKLMBFA NEOHPJFAHE QR</td>\n",
       "    </tr>\n",
       "  </tbody>\n",
       "</table>\n",
       "</div>"
      ],
      "text/plain": [
       "               cyphertext\n",
       "0      ABC DBEFG HAIEGHJA\n",
       "1  GJKLMBFA NEOHPJFAHE QR"
      ]
     },
     "execution_count": 117,
     "metadata": {},
     "output_type": "execute_result"
    }
   ],
   "source": [
    "# read processed data\n",
    "cyphertext_path = f\"../data/processed/{file_name}.csv\"\n",
    "df = pd.read_csv(cyphertext_path)\n",
    "num_artists = len(df)\n",
    "\n",
    "# read reference artists\n",
    "ref_artists_path = \"../data/artists.txt\"\n",
    "with open(ref_artists_path, \"r\") as file:\n",
    "    artists = file.read().splitlines()\n",
    "artists = [artist.upper().strip() for artist in artists]\n",
    "df.head()"
   ]
  },
  {
   "cell_type": "code",
   "execution_count": 118,
   "metadata": {},
   "outputs": [],
   "source": [
    "# heuritic patterns\n",
    "DJ_SET_PATTERN = re.compile(r\"\\([A-Z0-9]{2}\\s[A-Z0-9]{3}\\)\")  # DJ SET\n",
    "SUNSET_PATTERN = re.compile(\n",
    "    r\"\\(([A-Z0-9])([A-Z0-9])([A-Z0-9])(\\1)([A-Z0-9])([A-Z0-9])\\s(\\1)(\\5)(\\6)\\)\"\n",
    ")  # SUNSET SET\n",
    "THROWBACK_PATTERN = re.compile(\n",
    "    r\"\\(([A-Z0-9])([A-Z0-9]{8}\\s[A-Z0-9]{2})(\\1)\\)\"\n",
    ")  # THROWBACK SET\n",
    "B2B_PATTERN = re.compile(r\"(\\w+\\s)([A-Z0-9])([A-Z0-9])(\\2)(\\s\\w+)\")  # B2B"
   ]
  },
  {
   "cell_type": "code",
   "execution_count": 119,
   "metadata": {},
   "outputs": [],
   "source": [
    "# extract heuritic patterns\n",
    "def extract_patterns(df, text):\n",
    "    mappings = {}\n",
    "    # DJ SET\n",
    "    dj_set_matches = DJ_SET_PATTERN.findall(text)\n",
    "    for match in dj_set_matches:\n",
    "        cypher_dj_set = match[1:-1]\n",
    "        plain_dj_set = \"DJ SET\"\n",
    "        for c, p in zip(\n",
    "            cypher_dj_set.replace(\" \", \"\"), plain_dj_set.replace(\" \", \"\")\n",
    "        ):\n",
    "            mappings[c] = p\n",
    "\n",
    "        artist = text[:-8].strip()\n",
    "        new_row = pd.DataFrame([{\"cyphertext\": artist}])\n",
    "        df = pd.concat([df, new_row], ignore_index=True)\n",
    "\n",
    "    # SUNSET SET\n",
    "    sunset_matches = SUNSET_PATTERN.findall(text)\n",
    "    for match in sunset_matches:\n",
    "        cypher_sunset = match[:-3]\n",
    "        plain_dj_set = \"SUNSET\"\n",
    "        for c, p in zip(cypher_sunset, plain_dj_set):\n",
    "            mappings[c] = p\n",
    "\n",
    "        artist = text[:-13].strip()\n",
    "        new_row = pd.DataFrame([{\"cyphertext\": artist}])\n",
    "        df = pd.concat([df, new_row], ignore_index=True)\n",
    "\n",
    "    # THROWBACK SET\n",
    "    throwback_matches = THROWBACK_PATTERN.findall(text)\n",
    "    for match in throwback_matches:\n",
    "        match = \"\".join(match).replace(\" \", \"\")\n",
    "        cypher_throwback = match[:-1]\n",
    "        for c, p in zip(cypher_throwback.replace(\" \", \"\"), \"THROWBACKSE\"):\n",
    "            mappings[c] = p\n",
    "        artist = text[:-16].strip()\n",
    "        new_row = pd.DataFrame([{\"cyphertext\": artist}])\n",
    "        df = pd.concat([df, new_row], ignore_index=True)\n",
    "\n",
    "    # B2B\n",
    "    b2b_matches = B2B_PATTERN.findall(text)\n",
    "    for match in b2b_matches:\n",
    "        cypher_b2b = match[1] + match[2]\n",
    "        plain_b2b = \"B2\"\n",
    "        for c, p in zip(cypher_b2b, plain_b2b):\n",
    "            mappings[c] = p\n",
    "\n",
    "        # create new rows for b2b artists\n",
    "        artists = [match[i].strip() for i in range(0, len(match), 4)]\n",
    "        new_df = pd.DataFrame(artists, columns=[\"cyphertext\"])\n",
    "        df = pd.concat([df, new_df], ignore_index=True)\n",
    "\n",
    "    return df, mappings"
   ]
  },
  {
   "cell_type": "code",
   "execution_count": 120,
   "metadata": {},
   "outputs": [],
   "source": [
    "known_mappings = {\n",
    "    \"A\": \"N\",\n",
    "    \"B\": \"E\",\n",
    "    \"C\": \"W\",\n",
    "    \"D\": \"Y\",\n",
    "    \"E\": \"A\",\n",
    "    \"F\": \"R\",\n",
    "    \"G\": \"S\",\n",
    "    \"H\": \"I\",\n",
    "    \"I\": \"V\",\n",
    "    \"J\": \"O\",\n",
    "    \"K\": \"U\",\n",
    "    \"L\": \"T\",\n",
    "    \"M\": \"H\",\n",
    "    \"N\": \"C\",\n",
    "    \"O\": \"L\",\n",
    "    \"P\": \"F\",\n",
    "    \"Q\": \"1\",\n",
    "    \"R\": \"8\"\n",
    "}"
   ]
  },
  {
   "cell_type": "code",
   "execution_count": 121,
   "metadata": {},
   "outputs": [
    {
     "data": {
      "text/plain": [
       "{'A': 'N',\n",
       " 'B': 'E',\n",
       " 'C': 'W',\n",
       " 'D': 'Y',\n",
       " 'E': 'A',\n",
       " 'F': 'R',\n",
       " 'G': 'S',\n",
       " 'H': 'I',\n",
       " 'I': 'V',\n",
       " 'J': 'O',\n",
       " 'K': 'U',\n",
       " 'L': 'T',\n",
       " 'M': 'H',\n",
       " 'N': 'C',\n",
       " 'O': 'L',\n",
       " 'P': 'F',\n",
       " 'Q': '1',\n",
       " 'R': '8'}"
      ]
     },
     "execution_count": 121,
     "metadata": {},
     "output_type": "execute_result"
    }
   ],
   "source": [
    "# initial cyphertext to plaintext mappings from heuristics\n",
    "def init_mappings(df):\n",
    "    mappings = known_mappings\n",
    "    for artist in df[\"cyphertext\"]:\n",
    "        df, new_mappings = extract_patterns(df, artist)\n",
    "        mappings.update(new_mappings)\n",
    "    return df, mappings\n",
    "\n",
    "\n",
    "df, mappings = init_mappings(df)\n",
    "mappings"
   ]
  },
  {
   "cell_type": "code",
   "execution_count": 122,
   "metadata": {},
   "outputs": [
    {
     "data": {
      "text/html": [
       "<div>\n",
       "<style scoped>\n",
       "    .dataframe tbody tr th:only-of-type {\n",
       "        vertical-align: middle;\n",
       "    }\n",
       "\n",
       "    .dataframe tbody tr th {\n",
       "        vertical-align: top;\n",
       "    }\n",
       "\n",
       "    .dataframe thead th {\n",
       "        text-align: right;\n",
       "    }\n",
       "</style>\n",
       "<table border=\"1\" class=\"dataframe\">\n",
       "  <thead>\n",
       "    <tr style=\"text-align: right;\">\n",
       "      <th></th>\n",
       "      <th>cyphertext</th>\n",
       "      <th>plaintext</th>\n",
       "    </tr>\n",
       "  </thead>\n",
       "  <tbody>\n",
       "    <tr>\n",
       "      <th>0</th>\n",
       "      <td>ABC DBEFG HAIEGHJA</td>\n",
       "      <td>--- ----- --------</td>\n",
       "    </tr>\n",
       "    <tr>\n",
       "      <th>1</th>\n",
       "      <td>GJKLMBFA NEOHPJFAHE QR</td>\n",
       "      <td>-------- ---------- --</td>\n",
       "    </tr>\n",
       "  </tbody>\n",
       "</table>\n",
       "</div>"
      ],
      "text/plain": [
       "               cyphertext               plaintext\n",
       "0      ABC DBEFG HAIEGHJA      --- ----- --------\n",
       "1  GJKLMBFA NEOHPJFAHE QR  -------- ---------- --"
      ]
     },
     "execution_count": 122,
     "metadata": {},
     "output_type": "execute_result"
    }
   ],
   "source": [
    "# create initial plaintext\n",
    "def create_plaintext(df):\n",
    "    df[\"plaintext\"] = df[\"cyphertext\"].apply(\n",
    "        lambda row: re.sub(r\"[A-Za-z0-9]\", \"-\", row)\n",
    "    )\n",
    "create_plaintext(df)\n",
    "df.head()"
   ]
  },
  {
   "cell_type": "code",
   "execution_count": 123,
   "metadata": {},
   "outputs": [
    {
     "data": {
      "text/html": [
       "<div>\n",
       "<style scoped>\n",
       "    .dataframe tbody tr th:only-of-type {\n",
       "        vertical-align: middle;\n",
       "    }\n",
       "\n",
       "    .dataframe tbody tr th {\n",
       "        vertical-align: top;\n",
       "    }\n",
       "\n",
       "    .dataframe thead th {\n",
       "        text-align: right;\n",
       "    }\n",
       "</style>\n",
       "<table border=\"1\" class=\"dataframe\">\n",
       "  <thead>\n",
       "    <tr style=\"text-align: right;\">\n",
       "      <th></th>\n",
       "      <th>cyphertext</th>\n",
       "      <th>plaintext</th>\n",
       "    </tr>\n",
       "  </thead>\n",
       "  <tbody>\n",
       "    <tr>\n",
       "      <th>0</th>\n",
       "      <td>ABC DBEFG HAIEGHJA</td>\n",
       "      <td>NEW YEARS INVASION</td>\n",
       "    </tr>\n",
       "    <tr>\n",
       "      <th>1</th>\n",
       "      <td>GJKLMBFA NEOHPJFAHE QR</td>\n",
       "      <td>SOUTHERN CALIFORNIA 18</td>\n",
       "    </tr>\n",
       "  </tbody>\n",
       "</table>\n",
       "</div>"
      ],
      "text/plain": [
       "               cyphertext               plaintext\n",
       "0      ABC DBEFG HAIEGHJA      NEW YEARS INVASION\n",
       "1  GJKLMBFA NEOHPJFAHE QR  SOUTHERN CALIFORNIA 18"
      ]
     },
     "execution_count": 123,
     "metadata": {},
     "output_type": "execute_result"
    }
   ],
   "source": [
    "# update plaintext of row with new mappings\n",
    "def replace_decoded(row):\n",
    "    updated_decoded = []\n",
    "    for ct, dc in zip(row[\"cyphertext\"], row[\"plaintext\"]):\n",
    "        if ct in mappings:\n",
    "            updated_decoded.append(mappings[ct])\n",
    "        else:\n",
    "            updated_decoded.append(dc)\n",
    "    return \"\".join(updated_decoded)\n",
    "\n",
    "\n",
    "# update plaintext with new mappings\n",
    "def update_plaintext(df):\n",
    "    df[\"plaintext\"] = df.apply(lambda row: replace_decoded(row), axis=1)\n",
    "update_plaintext(df)\n",
    "df.head()"
   ]
  },
  {
   "cell_type": "code",
   "execution_count": 124,
   "metadata": {},
   "outputs": [
    {
     "data": {
      "text/html": [
       "<div>\n",
       "<style scoped>\n",
       "    .dataframe tbody tr th:only-of-type {\n",
       "        vertical-align: middle;\n",
       "    }\n",
       "\n",
       "    .dataframe tbody tr th {\n",
       "        vertical-align: top;\n",
       "    }\n",
       "\n",
       "    .dataframe thead th {\n",
       "        text-align: right;\n",
       "    }\n",
       "</style>\n",
       "<table border=\"1\" class=\"dataframe\">\n",
       "  <thead>\n",
       "    <tr style=\"text-align: right;\">\n",
       "      <th></th>\n",
       "      <th>cyphertext</th>\n",
       "      <th>plaintext</th>\n",
       "      <th>matches</th>\n",
       "    </tr>\n",
       "  </thead>\n",
       "  <tbody>\n",
       "    <tr>\n",
       "      <th>0</th>\n",
       "      <td>ABC DBEFG HAIEGHJA</td>\n",
       "      <td>NEW YEARS INVASION</td>\n",
       "      <td>None</td>\n",
       "    </tr>\n",
       "    <tr>\n",
       "      <th>1</th>\n",
       "      <td>GJKLMBFA NEOHPJFAHE QR</td>\n",
       "      <td>SOUTHERN CALIFORNIA 18</td>\n",
       "      <td>None</td>\n",
       "    </tr>\n",
       "  </tbody>\n",
       "</table>\n",
       "</div>"
      ],
      "text/plain": [
       "               cyphertext               plaintext matches\n",
       "0      ABC DBEFG HAIEGHJA      NEW YEARS INVASION    None\n",
       "1  GJKLMBFA NEOHPJFAHE QR  SOUTHERN CALIFORNIA 18    None"
      ]
     },
     "execution_count": 124,
     "metadata": {},
     "output_type": "execute_result"
    }
   ],
   "source": [
    "# match plaintext pattern with artist\n",
    "def match_pattern(pattern, name):\n",
    "    # check if pattern and name have the same length\n",
    "    if len(pattern) != len(name):\n",
    "        return False\n",
    "\n",
    "    # check if pattern and name match\n",
    "    for p_char, n_char in zip(pattern, name):\n",
    "        if p_char == \"-\":\n",
    "            if n_char in mappings.values() or n_char == \" \":\n",
    "                return False\n",
    "        elif p_char == \" \" and n_char != \" \":\n",
    "            return False\n",
    "        else:\n",
    "            if p_char != n_char:\n",
    "                return False\n",
    "    return True\n",
    "\n",
    "\n",
    "# match pattern with all artists\n",
    "def match_artist(pattern):\n",
    "    matches = [artist for artist in artists if match_pattern(pattern, artist)]\n",
    "    return \", \".join(matches) if matches else None\n",
    "\n",
    "\n",
    "# match all plaintext patterns with artists\n",
    "def match_artists():\n",
    "    df[\"matches\"] = df[\"plaintext\"].apply(match_artist)\n",
    "\n",
    "\n",
    "match_artists()\n",
    "df"
   ]
  },
  {
   "cell_type": "code",
   "execution_count": 125,
   "metadata": {},
   "outputs": [],
   "source": [
    "# set a row to be a specific artist and updates mappings\n",
    "def update_row(row_num, artist):\n",
    "    # set artist for row\n",
    "    df.at[row_num, \"plaintext\"] = artist\n",
    "\n",
    "    cyphertext = df.at[row_num, \"cyphertext\"]\n",
    "\n",
    "    # update mappings\n",
    "    for ct_char, pt_char in zip(cyphertext, artist):\n",
    "        if (\n",
    "            ct_char.isalnum()\n",
    "            and ct_char not in mappings\n",
    "            and pt_char not in mappings.values()\n",
    "        ):\n",
    "            mappings[ct_char] = pt_char\n",
    "    df[\"plaintext\"] = df.apply(replace_decoded, axis=1)\n",
    "\n",
    "    # update matches\n",
    "    match_artists()"
   ]
  },
  {
   "cell_type": "code",
   "execution_count": 126,
   "metadata": {},
   "outputs": [
    {
     "data": {
      "text/html": [
       "<div>\n",
       "<style scoped>\n",
       "    .dataframe tbody tr th:only-of-type {\n",
       "        vertical-align: middle;\n",
       "    }\n",
       "\n",
       "    .dataframe tbody tr th {\n",
       "        vertical-align: top;\n",
       "    }\n",
       "\n",
       "    .dataframe thead th {\n",
       "        text-align: right;\n",
       "    }\n",
       "</style>\n",
       "<table border=\"1\" class=\"dataframe\">\n",
       "  <thead>\n",
       "    <tr style=\"text-align: right;\">\n",
       "      <th></th>\n",
       "      <th>cyphertext</th>\n",
       "      <th>plaintext</th>\n",
       "    </tr>\n",
       "  </thead>\n",
       "  <tbody>\n",
       "    <tr>\n",
       "      <th>0</th>\n",
       "      <td>ABC DBEFG HAIEGHJA</td>\n",
       "      <td>NEW YEARS INVASION</td>\n",
       "    </tr>\n",
       "    <tr>\n",
       "      <th>1</th>\n",
       "      <td>GJKLMBFA NEOHPJFAHE QR</td>\n",
       "      <td>SOUTHERN CALIFORNIA 18</td>\n",
       "    </tr>\n",
       "  </tbody>\n",
       "</table>\n",
       "</div>"
      ],
      "text/plain": [
       "               cyphertext               plaintext\n",
       "0      ABC DBEFG HAIEGHJA      NEW YEARS INVASION\n",
       "1  GJKLMBFA NEOHPJFAHE QR  SOUTHERN CALIFORNIA 18"
      ]
     },
     "execution_count": 126,
     "metadata": {},
     "output_type": "execute_result"
    }
   ],
   "source": [
    "# decrypt all artists in a dataframe\n",
    "def decrypt(df):\n",
    "    def match_and_update():\n",
    "        for row_num, row in df.iterrows():\n",
    "            if not row[\"matches\"]:\n",
    "                continue\n",
    "\n",
    "            plaintext = row[\"plaintext\"]\n",
    "            matches = row[\"matches\"].split(\", \")\n",
    "            blanks = plaintext.count(\"-\")\n",
    "\n",
    "            if len(matches) == 1 and blanks / len(plaintext) < 0.5:\n",
    "                artist = matches[0]\n",
    "\n",
    "                if artist not in df[\"plaintext\"].tolist():\n",
    "                    update_row(row_num, artist)\n",
    "                    return True\n",
    "        return False\n",
    "\n",
    "    match_artists()\n",
    "    while match_and_update():\n",
    "        pass\n",
    "    return df.drop(columns=[\"matches\"])\n",
    "df = decrypt(df).head(num_artists)\n",
    "df"
   ]
  },
  {
   "cell_type": "code",
   "execution_count": 127,
   "metadata": {},
   "outputs": [
    {
     "data": {
      "text/plain": [
       "{'Q': '1',\n",
       " 'R': '8',\n",
       " 'E': 'A',\n",
       " 'N': 'C',\n",
       " 'B': 'E',\n",
       " 'P': 'F',\n",
       " 'M': 'H',\n",
       " 'H': 'I',\n",
       " 'O': 'L',\n",
       " 'A': 'N',\n",
       " 'J': 'O',\n",
       " 'F': 'R',\n",
       " 'G': 'S',\n",
       " 'L': 'T',\n",
       " 'K': 'U',\n",
       " 'I': 'V',\n",
       " 'C': 'W',\n",
       " 'D': 'Y'}"
      ]
     },
     "execution_count": 127,
     "metadata": {},
     "output_type": "execute_result"
    }
   ],
   "source": [
    "# sort mappings in alphabetical order\n",
    "def sort_mappings(mappings):\n",
    "    return dict(sorted(mappings.items(), key=lambda item: item[1]))\n",
    "\n",
    "mappings = sort_mappings(mappings)\n",
    "mappings"
   ]
  },
  {
   "cell_type": "code",
   "execution_count": 128,
   "metadata": {},
   "outputs": [],
   "source": [
    "# write final lineup\n",
    "plaintext_path = f\"../data/decoded_plaintext/{file_name}.txt\"\n",
    "if save:\n",
    "    with open(plaintext_path, \"w\") as f:\n",
    "        # write lineup\n",
    "        for index, row in df.iterrows():\n",
    "            f.write(f\"{row['cyphertext']} -> {row['plaintext']}\\n\")\n",
    "\n",
    "        f.write(\"\\n\")\n",
    "\n",
    "        # write mappings\n",
    "        for key, value in mappings.items():\n",
    "            f.write(f\"{key} -> {value}\\n\")"
   ]
  }
 ],
 "metadata": {
  "kernelspec": {
   "display_name": "Python 3",
   "language": "python",
   "name": "python3"
  },
  "language_info": {
   "codemirror_mode": {
    "name": "ipython",
    "version": 3
   },
   "file_extension": ".py",
   "mimetype": "text/x-python",
   "name": "python",
   "nbconvert_exporter": "python",
   "pygments_lexer": "ipython3",
   "version": "3.10.11"
  }
 },
 "nbformat": 4,
 "nbformat_minor": 2
}
