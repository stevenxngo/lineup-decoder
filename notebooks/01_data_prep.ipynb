{
 "cells": [
  {
   "cell_type": "markdown",
   "metadata": {},
   "source": [
    "# Data Preparation"
   ]
  },
  {
   "cell_type": "code",
   "execution_count": 6,
   "metadata": {},
   "outputs": [
    {
     "data": {
      "text/plain": [
       "['IFQYO9PNY 62PG\\n',\n",
       " 'I2W30O S0OFYN2IOF\\n',\n",
       " 'I92WYO3\\n',\n",
       " 'G2IOEY\\n',\n",
       " '9TY 6TIWO3D0EYN3 (3PO3Y9 3Y9)\\n']"
      ]
     },
     "execution_count": 6,
     "metadata": {},
     "output_type": "execute_result"
    }
   ],
   "source": [
    "import pandas as pd\n",
    "\n",
    "# read the data\n",
    "cyphertext_path = \"../data/ciphertext/countdown_23.txt\"\n",
    "with open(cyphertext_path, \"r\", encoding=\"utf-8\") as f:\n",
    "    data = f.readlines()\n",
    "data[:5]"
   ]
  },
  {
   "cell_type": "code",
   "execution_count": 7,
   "metadata": {},
   "outputs": [
    {
     "data": {
      "text/plain": [
       "[['IFQYO9PNY 62PG'],\n",
       " ['I2W30O S0OFYN2IOF'],\n",
       " ['I92WYO3'],\n",
       " ['G2IOEY'],\n",
       " ['9TY 6TIWO3D0EYN3 (3PO3Y9 3Y9)']]"
      ]
     },
     "execution_count": 7,
     "metadata": {},
     "output_type": "execute_result"
    }
   ],
   "source": [
    "# split the data\n",
    "lines = [line.strip().split('|') for line in data]\n",
    "lines = [[artist.strip() for artist in line] for line in lines]\n",
    "lines[:5]"
   ]
  },
  {
   "cell_type": "code",
   "execution_count": 8,
   "metadata": {},
   "outputs": [
    {
     "data": {
      "text/plain": [
       "[{'cyphertext': 'IFQYO9PNY 62PG'},\n",
       " {'cyphertext': 'I2W30O S0OFYN2IOF'},\n",
       " {'cyphertext': 'I92WYO3'},\n",
       " {'cyphertext': 'G2IOEY'},\n",
       " {'cyphertext': '9TY 6TIWO3D0EYN3 (3PO3Y9 3Y9)'}]"
      ]
     },
     "execution_count": 8,
     "metadata": {},
     "output_type": "execute_result"
    }
   ],
   "source": [
    "# create list of artists\n",
    "artists = [{'cyphertext': artist.upper()} for line in lines for artist in line]\n",
    "artists[:5]"
   ]
  },
  {
   "cell_type": "code",
   "execution_count": 9,
   "metadata": {},
   "outputs": [
    {
     "data": {
      "text/html": [
       "<div>\n",
       "<style scoped>\n",
       "    .dataframe tbody tr th:only-of-type {\n",
       "        vertical-align: middle;\n",
       "    }\n",
       "\n",
       "    .dataframe tbody tr th {\n",
       "        vertical-align: top;\n",
       "    }\n",
       "\n",
       "    .dataframe thead th {\n",
       "        text-align: right;\n",
       "    }\n",
       "</style>\n",
       "<table border=\"1\" class=\"dataframe\">\n",
       "  <thead>\n",
       "    <tr style=\"text-align: right;\">\n",
       "      <th></th>\n",
       "      <th>cyphertext</th>\n",
       "    </tr>\n",
       "  </thead>\n",
       "  <tbody>\n",
       "    <tr>\n",
       "      <th>0</th>\n",
       "      <td>IFQYO9PNY 62PG</td>\n",
       "    </tr>\n",
       "    <tr>\n",
       "      <th>1</th>\n",
       "      <td>I2W30O S0OFYN2IOF</td>\n",
       "    </tr>\n",
       "    <tr>\n",
       "      <th>2</th>\n",
       "      <td>I92WYO3</td>\n",
       "    </tr>\n",
       "    <tr>\n",
       "      <th>3</th>\n",
       "      <td>G2IOEY</td>\n",
       "    </tr>\n",
       "    <tr>\n",
       "      <th>4</th>\n",
       "      <td>9TY 6TIWO3D0EYN3 (3PO3Y9 3Y9)</td>\n",
       "    </tr>\n",
       "  </tbody>\n",
       "</table>\n",
       "</div>"
      ],
      "text/plain": [
       "                      cyphertext\n",
       "0                 IFQYO9PNY 62PG\n",
       "1              I2W30O S0OFYN2IOF\n",
       "2                        I92WYO3\n",
       "3                         G2IOEY\n",
       "4  9TY 6TIWO3D0EYN3 (3PO3Y9 3Y9)"
      ]
     },
     "execution_count": 9,
     "metadata": {},
     "output_type": "execute_result"
    }
   ],
   "source": [
    "# convert to dataframe\n",
    "df = pd.DataFrame(artists)\n",
    "df.head()"
   ]
  },
  {
   "cell_type": "code",
   "execution_count": 10,
   "metadata": {},
   "outputs": [],
   "source": [
    "# save the data\n",
    "output_path = \"../data/processed/countdown_23.csv\"\n",
    "df.to_csv(output_path, index=False)"
   ]
  }
 ],
 "metadata": {
  "kernelspec": {
   "display_name": "Python 3",
   "language": "python",
   "name": "python3"
  },
  "language_info": {
   "codemirror_mode": {
    "name": "ipython",
    "version": 3
   },
   "file_extension": ".py",
   "mimetype": "text/x-python",
   "name": "python",
   "nbconvert_exporter": "python",
   "pygments_lexer": "ipython3",
   "version": "3.11.9"
  }
 },
 "nbformat": 4,
 "nbformat_minor": 2
}
