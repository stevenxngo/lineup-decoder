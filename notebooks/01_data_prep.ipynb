{
 "cells": [
  {
   "cell_type": "markdown",
   "metadata": {},
   "source": [
    "# Data Preparation"
   ]
  },
  {
   "cell_type": "code",
   "execution_count": 1,
   "metadata": {},
   "outputs": [
    {
     "data": {
      "text/plain": [
       "['ABC DBEFG HAIEGHJA\\n',\n",
       " 'GJKLMBFA NEOMPJFAHE QR\\n',\n",
       " 'GSPBGK | ISLGIFHPE | GSPBGK | ISLGIFHPE']"
      ]
     },
     "execution_count": 1,
     "metadata": {},
     "output_type": "execute_result"
    }
   ],
   "source": [
    "import pandas as pd\n",
    "\n",
    "file_name = \"countdown_24\"\n",
    "\n",
    "# read the data\n",
    "cyphertext_path = f\"../data/ciphertext/{file_name}.txt\"\n",
    "with open(cyphertext_path, \"r\", encoding=\"utf-8\") as f:\n",
    "    data = f.readlines()\n",
    "data[:5]"
   ]
  },
  {
   "cell_type": "code",
   "execution_count": 2,
   "metadata": {},
   "outputs": [
    {
     "data": {
      "text/plain": [
       "[['ABC DBEFG HAIEGHJA'],\n",
       " ['GJKLMBFA NEOMPJFAHE QR'],\n",
       " ['GSPBGK', 'ISLGIFHPE', 'GSPBGK', 'ISLGIFHPE']]"
      ]
     },
     "execution_count": 2,
     "metadata": {},
     "output_type": "execute_result"
    }
   ],
   "source": [
    "# split the data\n",
    "lines = [line.strip().split('|') for line in data]\n",
    "lines = [[artist.strip().upper() for artist in line] for line in lines]\n",
    "lines[:5]"
   ]
  },
  {
   "cell_type": "code",
   "execution_count": 3,
   "metadata": {},
   "outputs": [
    {
     "data": {
      "text/plain": [
       "[{'cyphertext': 'ABC DBEFG HAIEGHJA'},\n",
       " {'cyphertext': 'GJKLMBFA NEOMPJFAHE QR'},\n",
       " {'cyphertext': 'GSPBGK'},\n",
       " {'cyphertext': 'ISLGIFHPE'},\n",
       " {'cyphertext': 'GSPBGK'}]"
      ]
     },
     "execution_count": 3,
     "metadata": {},
     "output_type": "execute_result"
    }
   ],
   "source": [
    "# create list of artists\n",
    "artists = [{'cyphertext': artist.upper()} for line in lines for artist in line]\n",
    "artists[:5]"
   ]
  },
  {
   "cell_type": "code",
   "execution_count": 4,
   "metadata": {},
   "outputs": [
    {
     "data": {
      "text/html": [
       "<div>\n",
       "<style scoped>\n",
       "    .dataframe tbody tr th:only-of-type {\n",
       "        vertical-align: middle;\n",
       "    }\n",
       "\n",
       "    .dataframe tbody tr th {\n",
       "        vertical-align: top;\n",
       "    }\n",
       "\n",
       "    .dataframe thead th {\n",
       "        text-align: right;\n",
       "    }\n",
       "</style>\n",
       "<table border=\"1\" class=\"dataframe\">\n",
       "  <thead>\n",
       "    <tr style=\"text-align: right;\">\n",
       "      <th></th>\n",
       "      <th>cyphertext</th>\n",
       "    </tr>\n",
       "  </thead>\n",
       "  <tbody>\n",
       "    <tr>\n",
       "      <th>0</th>\n",
       "      <td>ABC DBEFG HAIEGHJA</td>\n",
       "    </tr>\n",
       "    <tr>\n",
       "      <th>1</th>\n",
       "      <td>GJKLMBFA NEOMPJFAHE QR</td>\n",
       "    </tr>\n",
       "    <tr>\n",
       "      <th>2</th>\n",
       "      <td>GSPBGK</td>\n",
       "    </tr>\n",
       "    <tr>\n",
       "      <th>3</th>\n",
       "      <td>ISLGIFHPE</td>\n",
       "    </tr>\n",
       "    <tr>\n",
       "      <th>4</th>\n",
       "      <td>GSPBGK</td>\n",
       "    </tr>\n",
       "  </tbody>\n",
       "</table>\n",
       "</div>"
      ],
      "text/plain": [
       "               cyphertext\n",
       "0      ABC DBEFG HAIEGHJA\n",
       "1  GJKLMBFA NEOMPJFAHE QR\n",
       "2                  GSPBGK\n",
       "3               ISLGIFHPE\n",
       "4                  GSPBGK"
      ]
     },
     "execution_count": 4,
     "metadata": {},
     "output_type": "execute_result"
    }
   ],
   "source": [
    "# convert to dataframe\n",
    "df = pd.DataFrame(artists)\n",
    "df.head()"
   ]
  },
  {
   "cell_type": "code",
   "execution_count": 5,
   "metadata": {},
   "outputs": [],
   "source": [
    "# save the data\n",
    "output_path = f\"../data/processed/{file_name}.csv\"\n",
    "df.to_csv(output_path, index=False)"
   ]
  }
 ],
 "metadata": {
  "kernelspec": {
   "display_name": "Python 3",
   "language": "python",
   "name": "python3"
  },
  "language_info": {
   "codemirror_mode": {
    "name": "ipython",
    "version": 3
   },
   "file_extension": ".py",
   "mimetype": "text/x-python",
   "name": "python",
   "nbconvert_exporter": "python",
   "pygments_lexer": "ipython3",
   "version": "3.10.11"
  }
 },
 "nbformat": 4,
 "nbformat_minor": 2
}
