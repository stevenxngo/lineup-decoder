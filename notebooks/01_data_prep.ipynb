{
 "cells": [
  {
   "cell_type": "markdown",
   "metadata": {},
   "source": [
    "# Data Preparation"
   ]
  },
  {
   "cell_type": "code",
   "execution_count": 26,
   "metadata": {},
   "outputs": [
    {
     "data": {
      "text/plain": [
       "['ABC D | ABE FGHIJK | AJALB\\n',\n",
       " 'AMNOBJI FDBKPF | AMFF QKJ | RJKS (QT FJG)\\n',\n",
       " 'RUOGAKJ | RMNSIJ ASCQBLJK | RSMVC LWL TSFOXB\\n',\n",
       " 'SIMYJK OJIQJRF | SFMKMF | DBGKMNP GSDDMRU | FGS\\n',\n",
       " 'DSKGJK KSLMRFSR (QT FJG) | KMSG GJR | FBLBM\\n']"
      ]
     },
     "execution_count": 26,
     "metadata": {},
     "output_type": "execute_result"
    }
   ],
   "source": [
    "import pandas as pd\n",
    "\n",
    "# read the data\n",
    "cyphertext_path = \"../data/ciphertext/countdown_23.txt\"\n",
    "with open(cyphertext_path, \"r\", encoding=\"utf-8\") as f:\n",
    "    data = f.readlines()\n",
    "data[:5]"
   ]
  },
  {
   "cell_type": "code",
   "execution_count": 27,
   "metadata": {},
   "outputs": [
    {
     "data": {
      "text/plain": [
       "[['ABC D', 'ABE FGHIJK', 'AJALB'],\n",
       " ['AMNOBJI FDBKPF', 'AMFF QKJ', 'RJKS (QT FJG)'],\n",
       " ['RUOGAKJ', 'RMNSIJ ASCQBLJK', 'RSMVC LWL TSFOXB'],\n",
       " ['SIMYJK OJIQJRF', 'SFMKMF', 'DBGKMNP GSDDMRU', 'FGS'],\n",
       " ['DSKGJK KSLMRFSR (QT FJG)', 'KMSG GJR', 'FBLBM']]"
      ]
     },
     "execution_count": 27,
     "metadata": {},
     "output_type": "execute_result"
    }
   ],
   "source": [
    "# split the data\n",
    "lines = [line.strip().split('|') for line in data]\n",
    "lines = [[artist.strip() for artist in line] for line in lines]\n",
    "lines[:5]"
   ]
  },
  {
   "cell_type": "code",
   "execution_count": 28,
   "metadata": {},
   "outputs": [
    {
     "data": {
      "text/plain": [
       "[{'cyphertext': 'ABC D'},\n",
       " {'cyphertext': 'ABE FGHIJK'},\n",
       " {'cyphertext': 'AJALB'},\n",
       " {'cyphertext': 'AMNOBJI FDBKPF'},\n",
       " {'cyphertext': 'AMFF QKJ'}]"
      ]
     },
     "execution_count": 28,
     "metadata": {},
     "output_type": "execute_result"
    }
   ],
   "source": [
    "# create list of artists\n",
    "artists = [{'cyphertext': artist.upper()} for line in lines for artist in line]\n",
    "artists[:5]"
   ]
  },
  {
   "cell_type": "code",
   "execution_count": 29,
   "metadata": {},
   "outputs": [
    {
     "data": {
      "text/html": [
       "<div>\n",
       "<style scoped>\n",
       "    .dataframe tbody tr th:only-of-type {\n",
       "        vertical-align: middle;\n",
       "    }\n",
       "\n",
       "    .dataframe tbody tr th {\n",
       "        vertical-align: top;\n",
       "    }\n",
       "\n",
       "    .dataframe thead th {\n",
       "        text-align: right;\n",
       "    }\n",
       "</style>\n",
       "<table border=\"1\" class=\"dataframe\">\n",
       "  <thead>\n",
       "    <tr style=\"text-align: right;\">\n",
       "      <th></th>\n",
       "      <th>cyphertext</th>\n",
       "    </tr>\n",
       "  </thead>\n",
       "  <tbody>\n",
       "    <tr>\n",
       "      <th>0</th>\n",
       "      <td>ABC D</td>\n",
       "    </tr>\n",
       "    <tr>\n",
       "      <th>1</th>\n",
       "      <td>ABE FGHIJK</td>\n",
       "    </tr>\n",
       "    <tr>\n",
       "      <th>2</th>\n",
       "      <td>AJALB</td>\n",
       "    </tr>\n",
       "    <tr>\n",
       "      <th>3</th>\n",
       "      <td>AMNOBJI FDBKPF</td>\n",
       "    </tr>\n",
       "    <tr>\n",
       "      <th>4</th>\n",
       "      <td>AMFF QKJ</td>\n",
       "    </tr>\n",
       "  </tbody>\n",
       "</table>\n",
       "</div>"
      ],
      "text/plain": [
       "       cyphertext\n",
       "0           ABC D\n",
       "1      ABE FGHIJK\n",
       "2           AJALB\n",
       "3  AMNOBJI FDBKPF\n",
       "4        AMFF QKJ"
      ]
     },
     "execution_count": 29,
     "metadata": {},
     "output_type": "execute_result"
    }
   ],
   "source": [
    "# convert to dataframe\n",
    "df = pd.DataFrame(artists)\n",
    "df.head()"
   ]
  },
  {
   "cell_type": "code",
   "execution_count": 30,
   "metadata": {},
   "outputs": [],
   "source": [
    "# save the data\n",
    "output_path = \"../data/processed/countdown_23.csv\"\n",
    "df.to_csv(output_path, index=False)"
   ]
  }
 ],
 "metadata": {
  "kernelspec": {
   "display_name": "Python 3",
   "language": "python",
   "name": "python3"
  },
  "language_info": {
   "codemirror_mode": {
    "name": "ipython",
    "version": 3
   },
   "file_extension": ".py",
   "mimetype": "text/x-python",
   "name": "python",
   "nbconvert_exporter": "python",
   "pygments_lexer": "ipython3",
   "version": "3.11.9"
  }
 },
 "nbformat": 4,
 "nbformat_minor": 2
}
