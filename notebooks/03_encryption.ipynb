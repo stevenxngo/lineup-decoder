{
 "cells": [
  {
   "cell_type": "markdown",
   "metadata": {},
   "source": [
    "# Encryption with Substitution Cipher"
   ]
  },
  {
   "cell_type": "code",
   "execution_count": 1,
   "metadata": {},
   "outputs": [
    {
     "name": "stdout",
     "output_type": "stream",
     "text": [
      "['ACRAZE B2B WAX MOTIF', 'BABY WEIGHT', 'BLOSSOM', 'CALUSSA', 'DEORRO B2B VALENTINO KHAN', 'ELDERBROOK (DJ SET)', 'FRANXX', 'GUDFELLA', 'HUGEL', 'ILLENIUM', 'JERRO B2B MARSH', 'KNOCK2', 'LANE 8', 'LF SYSTEM', 'MISS DRE', 'NIGHT TALES', 'NORA EN PURE (SUNSET SET)', 'PURPLE DISCO MACHINE', 'REZZ', 'SAID THE SKY', 'TELYKAST', 'TINLICKER (DJ SET)', 'TROYBOI', 'TWO FRIENDS', 'VNSSA', 'ZEDD']\n"
     ]
    }
   ],
   "source": [
    "import random\n",
    "import string\n",
    "\n",
    "file_name = \"project_glow_24\"\n",
    "\n",
    "plaintext_path = f\"../data/plaintext/{file_name}.txt\"\n",
    "with open(plaintext_path, \"r\", encoding=\"utf-8\") as f:\n",
    "    artists = f.read().splitlines()\n",
    "print(artists)"
   ]
  },
  {
   "cell_type": "code",
   "execution_count": 2,
   "metadata": {},
   "outputs": [],
   "source": [
    "# generate a random substitution mapping\n",
    "def generate_mapping():\n",
    "    chars = string.ascii_uppercase + string.digits\n",
    "    shuffled = list(chars)\n",
    "    random.shuffle(shuffled)\n",
    "\n",
    "    mapping = {orig: sub for orig, sub in zip(chars, shuffled)}\n",
    "    return mapping\n",
    "\n",
    "\n",
    "# encrypt an artist with a substitution mapping\n",
    "def encrypt_artist(artist, mapping):\n",
    "    encrypted = \"\".join(mapping.get(char, char) for char in artist)\n",
    "    return encrypted\n",
    "\n",
    "\n",
    "# encrypt a list of artists with a substitution mapping\n",
    "def encrypt_list(artists, mapping):\n",
    "    return [encrypt_artist(artist.upper(), mapping) for artist in artists]"
   ]
  },
  {
   "cell_type": "code",
   "execution_count": 3,
   "metadata": {},
   "outputs": [
    {
     "data": {
      "text/plain": [
       "['5EX50J OVO C5T A6ZGS',\n",
       " 'O5O2 CJGQUZ',\n",
       " 'O96336A',\n",
       " 'E59H335',\n",
       " '1J6XX6 OVO L59JFZGF6 YU5F',\n",
       " 'J91JXOX66Y (1B 3JZ)',\n",
       " 'SX5FTT',\n",
       " 'QH1SJ995',\n",
       " 'UHQJ9',\n",
       " 'G99JFGHA',\n",
       " 'BJXX6 OVO A5X3U',\n",
       " 'YF6EYV',\n",
       " '95FJ M',\n",
       " '9S 323ZJA',\n",
       " 'AG33 1XJ',\n",
       " 'FGQUZ Z59J3',\n",
       " 'F6X5 JF DHXJ (3HF3JZ 3JZ)',\n",
       " 'DHXD9J 1G3E6 A5EUGFJ',\n",
       " 'XJ00',\n",
       " '35G1 ZUJ 3Y2',\n",
       " 'ZJ92Y53Z',\n",
       " 'ZGF9GEYJX (1B 3JZ)',\n",
       " 'ZX62O6G',\n",
       " 'ZC6 SXGJF13',\n",
       " 'LF335',\n",
       " '0J11']"
      ]
     },
     "execution_count": 3,
     "metadata": {},
     "output_type": "execute_result"
    }
   ],
   "source": [
    "mapping = generate_mapping()\n",
    "encrypted_artists = encrypt_list(artists, mapping)\n",
    "encrypted_artists"
   ]
  },
  {
   "cell_type": "code",
   "execution_count": 4,
   "metadata": {},
   "outputs": [],
   "source": [
    "ciphertext_path = f\"../data/ciphertext/{file_name}.txt\"\n",
    "with open(ciphertext_path, \"w\", encoding=\"utf-8\") as f:\n",
    "    for artist in encrypted_artists:\n",
    "        f.write(artist + \"\\n\")"
   ]
  }
 ],
 "metadata": {
  "kernelspec": {
   "display_name": "Python 3",
   "language": "python",
   "name": "python3"
  },
  "language_info": {
   "codemirror_mode": {
    "name": "ipython",
    "version": 3
   },
   "file_extension": ".py",
   "mimetype": "text/x-python",
   "name": "python",
   "nbconvert_exporter": "python",
   "pygments_lexer": "ipython3",
   "version": "3.10.11"
  }
 },
 "nbformat": 4,
 "nbformat_minor": 2
}
