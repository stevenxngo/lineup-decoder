{
 "cells": [
  {
   "cell_type": "markdown",
   "metadata": {},
   "source": [
    "# Encryption with Substitution Cipher"
   ]
  },
  {
   "cell_type": "code",
   "execution_count": 42,
   "metadata": {},
   "outputs": [
    {
     "name": "stdout",
     "output_type": "stream",
     "text": [
      "['ARMNHMR', 'ATLIENS', 'BLOODSPORT (RIOT TEN B2B SAYMYNAME)', 'THE CHAINSMOKERS', 'CRAZE B2B ZEKE BEATS', 'DABIN', 'DEADMAU5', 'DJ SNAKE', 'EKALI', 'ELI BROWN', 'GALANTIS', 'JASON ROSS', 'JVNA', 'LOUD LUXURY', 'MADEON (DJ SET)', 'MAU P', 'RAY VOLPE', 'ROHAAN B2B SAKA', 'SIDE PIECE', 'SLANDER', 'SULLIVAN KING', 'VALENTINO KHAN', 'VIRTUAL RIOT', 'YETEP', 'ZEDD']\n"
     ]
    }
   ],
   "source": [
    "import random\n",
    "import string\n",
    "\n",
    "plaintext_path = \"../data/plaintext/countdown_22.txt\"\n",
    "with open(plaintext_path, \"r\", encoding=\"utf-8\") as f:\n",
    "    artists = f.read().splitlines()\n",
    "print(artists)"
   ]
  },
  {
   "cell_type": "code",
   "execution_count": 43,
   "metadata": {},
   "outputs": [],
   "source": [
    "# generate a random substitution mapping\n",
    "def generate_mapping():\n",
    "    chars = string.ascii_uppercase + string.digits\n",
    "    shuffled = list(chars)\n",
    "    random.shuffle(shuffled)\n",
    "\n",
    "    mapping = {orig: sub for orig, sub in zip(chars, shuffled)}\n",
    "    return mapping\n",
    "\n",
    "\n",
    "# encrypt an artist with a substitution mapping\n",
    "def encrypt_artist(artist, mapping):\n",
    "    encrypted = \"\".join(mapping.get(char, char) for char in artist)\n",
    "    return encrypted\n",
    "\n",
    "\n",
    "# encrypt a list of artists with a substitution mapping\n",
    "def encrypt_list(artists, mapping):\n",
    "    return [encrypt_artist(artist, mapping) for artist in artists]"
   ]
  },
  {
   "cell_type": "code",
   "execution_count": 44,
   "metadata": {},
   "outputs": [
    {
     "data": {
      "text/plain": [
       "['BL05U0L',\n",
       " 'BR3EH5T',\n",
       " 'S3QQKTGQLR (LEQR RH5 SFS TBW0W5B0H)',\n",
       " 'RUH AUBE5T0QVHLT',\n",
       " 'ALBDH SFS DHVH SHBRT',\n",
       " 'KBSE5',\n",
       " 'KHBK0BIM',\n",
       " 'KJ T5BVH',\n",
       " 'HVB3E',\n",
       " 'H3E SLQ75',\n",
       " 'OB3B5RET',\n",
       " 'JBTQ5 LQTT',\n",
       " 'JZ5B',\n",
       " '3QIK 3IPILW',\n",
       " '0BKHQ5 (KJ THR)',\n",
       " '0BI G',\n",
       " 'LBW ZQ3GH',\n",
       " 'LQUBB5 SFS TBVB',\n",
       " 'TEKH GEHAH',\n",
       " 'T3B5KHL',\n",
       " 'TI33EZB5 VE5O',\n",
       " 'ZB3H5RE5Q VUB5',\n",
       " 'ZELRIB3 LEQR',\n",
       " 'WHRHG',\n",
       " 'DHKK']"
      ]
     },
     "execution_count": 44,
     "metadata": {},
     "output_type": "execute_result"
    }
   ],
   "source": [
    "mapping = generate_mapping()\n",
    "encrypted_artists = encrypt_list(artists, mapping)\n",
    "encrypted_artists"
   ]
  },
  {
   "cell_type": "code",
   "execution_count": 45,
   "metadata": {},
   "outputs": [],
   "source": [
    "ciphertext_path = \"../data/ciphertext/countdown_22.txt\"\n",
    "with open(ciphertext_path, \"w\", encoding=\"utf-8\") as f:\n",
    "    for artist in encrypted_artists:\n",
    "        f.write(artist + \"\\n\")"
   ]
  }
 ],
 "metadata": {
  "kernelspec": {
   "display_name": "Python 3",
   "language": "python",
   "name": "python3"
  },
  "language_info": {
   "codemirror_mode": {
    "name": "ipython",
    "version": 3
   },
   "file_extension": ".py",
   "mimetype": "text/x-python",
   "name": "python",
   "nbconvert_exporter": "python",
   "pygments_lexer": "ipython3",
   "version": "3.11.9"
  }
 },
 "nbformat": 4,
 "nbformat_minor": 2
}
